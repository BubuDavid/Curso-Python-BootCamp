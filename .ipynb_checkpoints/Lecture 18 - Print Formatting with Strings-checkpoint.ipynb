{
 "cells": [
  {
   "cell_type": "markdown",
   "metadata": {},
   "source": [
    "# Formating with .format() method (Para meterle strings a las strings)\n",
    "A good way to format objects into your strings for print statements is with the string .format() method. The sintaxys is:\n",
    "## 'String here {} with also {}'.format(something1, something2)"
   ]
  },
  {
   "cell_type": "code",
   "execution_count": 2,
   "metadata": {},
   "outputs": [
    {
     "name": "stdout",
     "output_type": "stream",
     "text": [
      "Este es un ejemplo de una string INSRTADA\n"
     ]
    }
   ],
   "source": [
    "print('Este es un ejemplo de una string {}'.format('INSRTADA'))"
   ]
  },
  {
   "cell_type": "code",
   "execution_count": 3,
   "metadata": {},
   "outputs": [
    {
     "name": "stdout",
     "output_type": "stream",
     "text": [
      "También se puede con muchas strings en luegares específicos.\n"
     ]
    }
   ],
   "source": [
    "print('También se {} con muchas {} en luegares {}.'.format('puede', 'strings', 'específicos'))"
   ]
  },
  {
   "cell_type": "code",
   "execution_count": 6,
   "metadata": {},
   "outputs": [
    {
     "name": "stdout",
     "output_type": "stream",
     "text": [
      "Y también se pueden ordenar bebé tu como corazón quiera <3\n"
     ]
    }
   ],
   "source": [
    "print('Y también se pueden ordenar {} tu {} {} quiera {}'.format('bebé', 'como', '<3', 'corazón'))"
   ]
  },
  {
   "cell_type": "markdown",
   "metadata": {},
   "source": [
    "### La frase anterior está desordenada, pero podemos ponerla bien con el index de los números"
   ]
  },
  {
   "cell_type": "code",
   "execution_count": 10,
   "metadata": {},
   "outputs": [
    {
     "name": "stdout",
     "output_type": "stream",
     "text": [
      "Y también se pueden ordenar como tu corazón bebé quiera <3\n"
     ]
    }
   ],
   "source": [
    "print('Y también se pueden ordenar {1} tu {3} {0} quiera {2}'.format('bebé', 'como', '<3', 'corazón'))"
   ]
  },
  {
   "cell_type": "markdown",
   "metadata": {},
   "source": [
    "### También se pueden asignar 'keywords'\n",
    "#### 'string {s1} con {s2} cosas'.format(s1 = 'something1', s2 = 'something2')"
   ]
  },
  {
   "cell_type": "code",
   "execution_count": 11,
   "metadata": {},
   "outputs": [
    {
     "name": "stdout",
     "output_type": "stream",
     "text": [
      "Luke yo soy tu padre, noooooooo\n"
     ]
    }
   ],
   "source": [
    "print('{L} yo soy {t} {p}, {n}'.format(p = 'padre', L = 'Luke', n = 'noooooooo', t = 'tu'))"
   ]
  },
  {
   "cell_type": "markdown",
   "metadata": {},
   "source": [
    "# Float Formatting follows \"{value:width.precision f}\"\n",
    "\"width\" describe que tan grande quieres que se vea esa cosa, es decir, cuántos espacios quieres que ocupe."
   ]
  },
  {
   "cell_type": "code",
   "execution_count": 18,
   "metadata": {},
   "outputs": [],
   "source": [
    "result = 100/777"
   ]
  },
  {
   "cell_type": "code",
   "execution_count": 19,
   "metadata": {},
   "outputs": [
    {
     "data": {
      "text/plain": [
       "0.1287001287001287"
      ]
     },
     "execution_count": 19,
     "metadata": {},
     "output_type": "execute_result"
    }
   ],
   "source": [
    "result"
   ]
  },
  {
   "cell_type": "code",
   "execution_count": 21,
   "metadata": {},
   "outputs": [
    {
     "name": "stdout",
     "output_type": "stream",
     "text": [
      "The result is: 0.129\n"
     ]
    }
   ],
   "source": [
    "print('The result is: {r:1.3f}'.format(r = result))"
   ]
  },
  {
   "cell_type": "code",
   "execution_count": 22,
   "metadata": {},
   "outputs": [
    {
     "name": "stdout",
     "output_type": "stream",
     "text": [
      "The result is:       0.13\n"
     ]
    }
   ],
   "source": [
    "print('The result is: {r:10.2f}'.format(r = result))"
   ]
  },
  {
   "cell_type": "markdown",
   "metadata": {},
   "source": [
    "# Otra manera de imprimir darle formato a algo a partir de variables es:"
   ]
  },
  {
   "cell_type": "code",
   "execution_count": 23,
   "metadata": {},
   "outputs": [],
   "source": [
    "name = 'Bubu'"
   ]
  },
  {
   "cell_type": "code",
   "execution_count": 24,
   "metadata": {},
   "outputs": [
    {
     "name": "stdout",
     "output_type": "stream",
     "text": [
      "Qué onda Bubu\n"
     ]
    }
   ],
   "source": [
    "print(f'Qué onda {name}')"
   ]
  },
  {
   "cell_type": "markdown",
   "metadata": {},
   "source": [
    "La diferencia entre este último y el primero es que la sintaxis cambia de tal forma que:"
   ]
  },
  {
   "cell_type": "markdown",
   "metadata": {},
   "source": [
    "print(f'Aquí va el contenido de la string, por ejemplo: Hola {name}') "
   ]
  },
  {
   "cell_type": "markdown",
   "metadata": {},
   "source": [
    "Note la f de al principio"
   ]
  },
  {
   "cell_type": "markdown",
   "metadata": {},
   "source": [
    "# Más ejemplos en el NoteBook de este we xD"
   ]
  }
 ],
 "metadata": {
  "kernelspec": {
   "display_name": "Python 3",
   "language": "python",
   "name": "python3"
  },
  "language_info": {
   "codemirror_mode": {
    "name": "ipython",
    "version": 3
   },
   "file_extension": ".py",
   "mimetype": "text/x-python",
   "name": "python",
   "nbconvert_exporter": "python",
   "pygments_lexer": "ipython3",
   "version": "3.7.3"
  }
 },
 "nbformat": 4,
 "nbformat_minor": 2
}
