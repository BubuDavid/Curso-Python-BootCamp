{
 "cells": [
  {
   "cell_type": "markdown",
   "metadata": {},
   "source": [
    "# First attempt, Blackjack Game for my own"
   ]
  },
  {
   "cell_type": "code",
   "execution_count": 1,
   "metadata": {},
   "outputs": [],
   "source": [
    "#General declarations and libraries\n",
    "from random import randint"
   ]
  },
  {
   "cell_type": "raw",
   "metadata": {},
   "source": [
    "class Card():\n",
    "    \n",
    "    #ATTRIBUTES:\n",
    "    def __init__(self, color, value):\n",
    "        self.color = color\n",
    "        self.value = value\n",
    "        \n",
    "    #SPECIAL METHODS:\n",
    "    def __str__(self):\n",
    "        return str(self.value) + \" of \" + self.color\n",
    "    \n",
    "    def __len__(self):\n",
    "        return self.value"
   ]
  },
  {
   "cell_type": "code",
   "execution_count": 2,
   "metadata": {},
   "outputs": [],
   "source": [
    "def new_deck():\n",
    "    \n",
    "    deck = []\n",
    "\n",
    "    for index in range(1, 14):\n",
    "\n",
    "        auxiliar = index\n",
    "        if index >= 10:\n",
    "            index = 10\n",
    "\n",
    "        deck.append((index, 'Diamond'))\n",
    "        deck.append((index, 'Spade'))\n",
    "        deck.append((index, 'Clove'))\n",
    "        deck.append((index, 'Heart'))\n",
    "\n",
    "        index = auxiliar\n",
    "    return deck"
   ]
  },
  {
   "cell_type": "code",
   "execution_count": 3,
   "metadata": {},
   "outputs": [],
   "source": [
    "initial_deck = new_deck()"
   ]
  },
  {
   "cell_type": "code",
   "execution_count": 4,
   "metadata": {},
   "outputs": [],
   "source": [
    "class Player():\n",
    "    \n",
    "    #ATTRIBUTES:\n",
    "    def __init__(self, balance = 0, card_acount = [], card_sum = 0):\n",
    "        self.balance = balance\n",
    "        self.card_acount = card_acount\n",
    "        \n",
    "        for value, color in card_acount:\n",
    "            card_sum += value\n",
    "            \n",
    "        self.card_sum = card_sum\n",
    "        \n",
    "    #SPECIAL METHODS:\n",
    "    def __str__(self):\n",
    "        return \"The balance is: \" + str(self.balance) + \"\\nThe cards are: \" + str(self.card_acount)\n",
    "    \n",
    "    def __len__(self):\n",
    "        return self.balance\n",
    "    \n",
    "    #METHODS:\n",
    "    def hit(self, card):\n",
    "        self.card_sum += card[0]\n",
    "        self.card_acount.append(card)\n",
    "        #print(f\"{card[0]} of {card[1]} added\")\n",
    "        \n",
    "    def bet(self, bet_amount):\n",
    "        \n",
    "        while bet_amount > self.balance:\n",
    "            bet_amount = input('Please, put some value under you balance here: ')\n",
    "        self.balance -= bet_amount\n",
    "        return bet_amount"
   ]
  },
  {
   "cell_type": "code",
   "execution_count": 5,
   "metadata": {},
   "outputs": [],
   "source": [
    "Human = Player(500)\n",
    "Dealer = Player(0)"
   ]
  },
  {
   "cell_type": "code",
   "execution_count": 6,
   "metadata": {},
   "outputs": [],
   "source": [
    "Human.hit(initial_deck[randint(1,len(initial_deck))])"
   ]
  },
  {
   "cell_type": "code",
   "execution_count": 7,
   "metadata": {},
   "outputs": [
    {
     "name": "stdout",
     "output_type": "stream",
     "text": [
      "The balance is: 500\n",
      "The cards are: [(10, 'Spade')]\n"
     ]
    }
   ],
   "source": [
    "print(Human)"
   ]
  },
  {
   "cell_type": "code",
   "execution_count": 8,
   "metadata": {},
   "outputs": [
    {
     "name": "stdout",
     "output_type": "stream",
     "text": [
      "Welcome to Blackjack Game: \n",
      "Please, tell me your money balance: 500\n",
      "The balance is: 500\n",
      "The cards are: [(10, 'Spade'), (2, 'Clove'), (7, 'Heart'), (10, 'Spade'), (10, 'Clove')]\n",
      "The balance is: 0\n",
      "The cards are: [(10, 'Spade'), (2, 'Clove'), (7, 'Heart'), (10, 'Spade'), (10, 'Clove')]\n",
      "Want to play again? Yes or no: no\n",
      "Thank you for play, come back soon\n"
     ]
    }
   ],
   "source": [
    "print('Welcome to Blackjack Game: ')\n",
    "\n",
    "while True:\n",
    "    \n",
    "    #Initial Structure Of The Game:\n",
    "    player = Player(int(input('Please, tell me your money balance: ')))\n",
    "    dealer = Player(0)\n",
    "    game_on = True\n",
    "    initial_deck = new_deck()\n",
    "    \n",
    "    #Assigning cards:\n",
    "    \n",
    "    for i in range(1, 3):\n",
    "        random_number = randint(1,len(initial_deck))\n",
    "        \n",
    "        dealer.hit(initial_deck[random_number])\n",
    "        initial_deck.pop(random_number)\n",
    "        \n",
    "        random_number = randint(1,len(initial_deck))\n",
    "        \n",
    "        player.hit(initial_deck[random_number])\n",
    "        initial_deck.pop(random_number)\n",
    "        \n",
    "    print(player)\n",
    "    print(dealer)\n",
    "        \n",
    "    \n",
    "    #Game structure\n",
    "    while game_on:\n",
    "        break\n",
    "        \n",
    "        #Player's turn:\n",
    "        \n",
    "        \n",
    "        #Dealer's turn:\n",
    "        \n",
    "    if (input('Want to play again? Yes or no: ' )).upper() == 'NO':\n",
    "        print(\"Thank you for play, come back soon\")\n",
    "        break"
   ]
  },
  {
   "cell_type": "code",
   "execution_count": null,
   "metadata": {},
   "outputs": [],
   "source": []
  }
 ],
 "metadata": {
  "kernelspec": {
   "display_name": "Python 3",
   "language": "python",
   "name": "python3"
  },
  "language_info": {
   "codemirror_mode": {
    "name": "ipython",
    "version": 3
   },
   "file_extension": ".py",
   "mimetype": "text/x-python",
   "name": "python",
   "nbconvert_exporter": "python",
   "pygments_lexer": "ipython3",
   "version": "3.7.3"
  }
 },
 "nbformat": 4,
 "nbformat_minor": 2
}
