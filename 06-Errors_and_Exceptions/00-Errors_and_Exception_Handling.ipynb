{
 "cells": [
  {
   "cell_type": "code",
   "execution_count": 7,
   "metadata": {},
   "outputs": [
    {
     "name": "stdout",
     "output_type": "stream",
     "text": [
      "Somthing's wrong I can fell it\n"
     ]
    }
   ],
   "source": [
    "try: \n",
    "    #Want to attempt this code\n",
    "    #May have an error\n",
    "    result = 10 + \"10\"\n",
    "except:\n",
    "    #This gonna be execute if there's an error above\n",
    "    print(\"Somthing's wrong I can fell it\")\n",
    "else:\n",
    "    #This gonna be execute if there isn't an error above.\n",
    "    print(result)"
   ]
  },
  {
   "cell_type": "code",
   "execution_count": null,
   "metadata": {},
   "outputs": [],
   "source": []
  },
  {
   "cell_type": "code",
   "execution_count": null,
   "metadata": {},
   "outputs": [],
   "source": []
  }
 ],
 "metadata": {
  "kernelspec": {
   "display_name": "Python 3",
   "language": "python",
   "name": "python3"
  },
  "language_info": {
   "codemirror_mode": {
    "name": "ipython",
    "version": 3
   },
   "file_extension": ".py",
   "mimetype": "text/x-python",
   "name": "python",
   "nbconvert_exporter": "python",
   "pygments_lexer": "ipython3",
   "version": "3.7.3"
  }
 },
 "nbformat": 4,
 "nbformat_minor": 2
}
