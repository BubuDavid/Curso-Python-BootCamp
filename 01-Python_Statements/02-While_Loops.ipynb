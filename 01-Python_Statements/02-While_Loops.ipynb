{
 "cells": [
  {
   "cell_type": "markdown",
   "metadata": {},
   "source": [
    "## Syntax:"
   ]
  },
  {
   "cell_type": "code",
   "execution_count": 7,
   "metadata": {},
   "outputs": [
    {
     "name": "stdout",
     "output_type": "stream",
     "text": [
      "Yeaaah\n",
      "Yeaaah\n",
      "Yeaaah\n",
      "Yeaaah\n",
      "Yeaaah\n"
     ]
    }
   ],
   "source": [
    "some_boolean_condition = True\n",
    "\n",
    "i = 0\n",
    "\n",
    "while some_boolean_condition:\n",
    "    i = i + 1\n",
    "    print(\"Yeaaah\")\n",
    "    if i == 5:\n",
    "        some_boolean_condition = False"
   ]
  },
  {
   "cell_type": "markdown",
   "metadata": {},
   "source": [
    "## Existen 3 cositos para ciclos:"
   ]
  },
  {
   "cell_type": "markdown",
   "metadata": {},
   "source": [
    "### break: Breaks out of the current closest enclosing loop.\n",
    "### continue: Goes to the top of the closest enclosing loop.\n",
    "### pass: Does nothing at all.\n"
   ]
  },
  {
   "cell_type": "code",
   "execution_count": 11,
   "metadata": {},
   "outputs": [
    {
     "name": "stdout",
     "output_type": "stream",
     "text": [
      "If we don't write 'pass' our computer gonna explote\n"
     ]
    }
   ],
   "source": [
    "x = [1, 2, 3, 4, 5]\n",
    "\n",
    "for i in x:\n",
    "    pass\n",
    "print(\"If we don't write 'pass' our computer gonna explote\")"
   ]
  },
  {
   "cell_type": "code",
   "execution_count": 13,
   "metadata": {},
   "outputs": [
    {
     "name": "stdout",
     "output_type": "stream",
     "text": [
      "B\n",
      "b\n",
      "l\n",
      "b\n"
     ]
    }
   ],
   "source": [
    "string = 'Bubulubu'\n",
    "\n",
    "for letter in string:\n",
    "    if(letter == 'u'):\n",
    "        continue\n",
    "    print(letter)"
   ]
  },
  {
   "cell_type": "code",
   "execution_count": 14,
   "metadata": {},
   "outputs": [
    {
     "name": "stdout",
     "output_type": "stream",
     "text": [
      "B\n",
      "u\n",
      "b\n",
      "u\n"
     ]
    }
   ],
   "source": [
    "for letter in string:\n",
    "    if(letter == 'l'):\n",
    "        break;\n",
    "    print(letter)"
   ]
  }
 ],
 "metadata": {
  "kernelspec": {
   "display_name": "Python 3",
   "language": "python",
   "name": "python3"
  },
  "language_info": {
   "codemirror_mode": {
    "name": "ipython",
    "version": 3
   },
   "file_extension": ".py",
   "mimetype": "text/x-python",
   "name": "python",
   "nbconvert_exporter": "python",
   "pygments_lexer": "ipython3",
   "version": "3.7.3"
  }
 },
 "nbformat": 4,
 "nbformat_minor": 2
}
